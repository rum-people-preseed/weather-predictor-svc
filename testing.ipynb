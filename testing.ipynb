{
 "cells": [
  {
   "cell_type": "markdown",
   "metadata": {},
   "source": [
    "# This notebook is for testing accuracy"
   ]
  },
  {
   "cell_type": "markdown",
   "metadata": {},
   "source": [
    "## Imports"
   ]
  },
  {
   "cell_type": "code",
   "execution_count": 1,
   "metadata": {},
   "outputs": [
    {
     "name": "stderr",
     "output_type": "stream",
     "text": [
      "/var/folders/0s/83h1wg5d1mbgc_yl9_ql0ct80000gn/T/ipykernel_36320/4232039926.py:1: DeprecationWarning: \n",
      "Pyarrow will become a required dependency of pandas in the next major release of pandas (pandas 3.0),\n",
      "(to allow more performant data types, such as the Arrow string type, and better interoperability with other libraries)\n",
      "but was not found to be installed on your system.\n",
      "If this would cause problems for you,\n",
      "please provide us feedback at https://github.com/pandas-dev/pandas/issues/54466\n",
      "        \n",
      "  import pandas as pd\n",
      "/Users/ihorkostiuk/miniconda3/lib/python3.9/site-packages/tqdm/auto.py:22: TqdmWarning: IProgress not found. Please update jupyter and ipywidgets. See https://ipywidgets.readthedocs.io/en/stable/user_install.html\n",
      "  from .autonotebook import tqdm as notebook_tqdm\n",
      "Importing plotly failed. Interactive plots will not work.\n"
     ]
    }
   ],
   "source": [
    "import pandas as pd\n",
    "import numpy as np\n",
    "import prophet"
   ]
  },
  {
   "cell_type": "markdown",
   "metadata": {},
   "source": [
    "## Defining useful function"
   ]
  },
  {
   "cell_type": "code",
   "execution_count": 37,
   "metadata": {},
   "outputs": [],
   "source": [
    "def predict(model: prophet.Prophet, days: int = 1) -> list:\n",
    "    '''\n",
    "        This function takes number of days and model and predicts.\n",
    "    '''\n",
    "\n",
    "    future = model.make_future_dataframe(periods=24 * days,\n",
    "                                         freq='h')\n",
    "    predicted = model.predict(future)\n",
    "\n",
    "    return predicted.iloc[-24 * days:]['yhat'].to_list()\n",
    "\n",
    "\n",
    "def error_1(predicted: np.ndarray, target: np.ndarray) -> np.float64:\n",
    "    '''\n",
    "        This function calculates Error 1 of the prediction.\n",
    "    '''\n",
    "    return np.sqrt(np.power((predicted - target), 2).sum() / len(predicted))\n",
    "\n",
    "\n",
    "def error_2(predicted: np.ndarray, target: np.ndarray) -> np.float64:\n",
    "    '''\n",
    "        This function calculates Error 1 of the prediction.\n",
    "    '''\n",
    "    return (predicted - target).sum() / len(predicted)\n",
    "\n",
    "\n",
    "def estimate(model: prophet.Prophet, validation_data: pd.DataFrame, days: int = 1) -> np.float64:\n",
    "\n",
    "    prediction = predict(model=model, days=days)\n",
    "    target = validation_data.iloc[:24 * days]['y'].to_list()\n",
    "\n",
    "    err_1 = error_1(target=np.asarray(target), predicted=np.asarray(prediction))\n",
    "    err_2 = error_2(target=np.asarray(target), predicted=np.asarray(prediction))\n",
    "\n",
    "    return err_1, err_2"
   ]
  },
  {
   "cell_type": "markdown",
   "metadata": {},
   "source": [
    "## Testing"
   ]
  },
  {
   "cell_type": "code",
   "execution_count": 38,
   "metadata": {},
   "outputs": [
    {
     "name": "stderr",
     "output_type": "stream",
     "text": [
      "21:01:20 - cmdstanpy - INFO - Chain [1] start processing\n",
      "21:01:21 - cmdstanpy - INFO - Chain [1] done processing\n"
     ]
    }
   ],
   "source": [
    "training_data = pd.read_csv('./data/training.csv')\n",
    "validation_data = pd.read_csv('./data/validation.csv')\n",
    "\n",
    "model = prophet.Prophet()\n",
    "model.fit(training_data)\n",
    "\n",
    "last_prediction = '2016-04-06 22:00:00'"
   ]
  },
  {
   "cell_type": "code",
   "execution_count": 39,
   "metadata": {},
   "outputs": [
    {
     "name": "stdout",
     "output_type": "stream",
     "text": [
      "Average squared error for the 1 days:  Error_1 - 6.523579, Error_2 - -5.962839\n",
      "Average squared error for the 7 days:  Error_1 - 4.173950, Error_2 - -1.980839\n",
      "Average squared error for the 30 days:  Error_1 - 4.403863, Error_2 - 0.481318\n",
      "Average squared error for the 180 days:  Error_1 - 8.371225, Error_2 - 4.661354\n"
     ]
    }
   ],
   "source": [
    "days = [1, 7, 30, 30 * 6]\n",
    "for days_num in days:\n",
    "    acc = estimate(model=model, validation_data=validation_data, days=days_num)\n",
    "    print('Average squared error for the %d days: ' % days_num, 'Error_1 - %f, Error_2 - %f' % (acc[0], acc[1]))"
   ]
  },
  {
   "cell_type": "code",
   "execution_count": null,
   "metadata": {},
   "outputs": [],
   "source": []
  }
 ],
 "metadata": {
  "kernelspec": {
   "display_name": "base",
   "language": "python",
   "name": "python3"
  },
  "language_info": {
   "codemirror_mode": {
    "name": "ipython",
    "version": 3
   },
   "file_extension": ".py",
   "mimetype": "text/x-python",
   "name": "python",
   "nbconvert_exporter": "python",
   "pygments_lexer": "ipython3",
   "version": "3.9.16"
  }
 },
 "nbformat": 4,
 "nbformat_minor": 2
}
